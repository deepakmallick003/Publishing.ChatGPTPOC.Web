{
 "cells": [
  {
   "cell_type": "code",
   "execution_count": 1,
   "id": "e6c757b9-55f8-433e-99f0-9da1474744b7",
   "metadata": {},
   "outputs": [
    {
     "data": {
      "text/plain": [
       "True"
      ]
     },
     "execution_count": 1,
     "metadata": {},
     "output_type": "execute_result"
    }
   ],
   "source": [
    "import os\n",
    "import openai\n",
    "import networkx as nx\n",
    "import xml.etree.ElementTree as ET\n",
    "import requests\n",
    "from pathlib import Path\n",
    "from dotenv import load_dotenv\n",
    "load_dotenv()"
   ]
  },
  {
   "cell_type": "code",
   "execution_count": 2,
   "id": "9334986e-dba7-4a02-b84e-77b8808b83fe",
   "metadata": {},
   "outputs": [],
   "source": [
    "from langchain.llms import OpenAI\n",
    "from langchain.chat_models import ChatOpenAI\n",
    "from langchain.chains import GraphCypherQAChain\n",
    "from langchain.graphs import Neo4jGraph\n",
    "from neo4j import GraphDatabase"
   ]
  },
  {
   "cell_type": "code",
   "execution_count": 3,
   "id": "8d8c33a8-6995-4cf9-a94f-b1b12a3771ec",
   "metadata": {},
   "outputs": [],
   "source": [
    "PARENT_PATH = Path.cwd().parent\n",
    "if 'publishingchatgptpocweb' not in str(PARENT_PATH):\n",
    "    PARENT_PATH = PARENT_PATH / 'publishingchatgptpocweb'\n",
    "\n",
    "CORE_DIRECTORY = PARENT_PATH / 'core'\n",
    "DATA_DIRECTORY = PARENT_PATH / 'data'\n",
    "\n",
    "SPAQRQL_QUERY_FILE_PATH = CORE_DIRECTORY / 'sparql_query_template.sparql'\n",
    "JATS_DATA_DIRECTORY_PATH = DATA_DIRECTORY / 'raw'\n",
    "BASIC_GRAPH_SAVED_FILE_PATH = DATA_DIRECTORY / 'processed' / 'basic_graph.gml'\n",
    "OPEN_AI_GRAPH_SAVED_FILE_PATH = DATA_DIRECTORY / 'processed' / 'open_ai_graph.gml'\n",
    "USE_OPEN_AI=True"
   ]
  },
  {
   "cell_type": "code",
   "execution_count": 4,
   "id": "0047a0be-6c32-4f2e-9f1d-2fb04f284290",
   "metadata": {},
   "outputs": [],
   "source": [
    "OPEN_AI_API_SECRET = os.getenv('PublishingChatGPT_Open_AI_API_Secret')\n",
    "openai.api_key = OPEN_AI_API_SECRET"
   ]
  },
  {
   "cell_type": "code",
   "execution_count": 5,
   "id": "dc4b8609-5240-4d44-bc9a-2297a6e3ef32",
   "metadata": {},
   "outputs": [],
   "source": [
    "graph = Neo4jGraph(\n",
    "    url=os.getenv('PublishingChatGPT_Neo4J_URL'), username=os.getenv('PublishingChatGPT_Neo4J_UserName'), password=os.getenv('PublishingChatGPT_Neo4J_Password')\n",
    ")"
   ]
  },
  {
   "cell_type": "code",
   "execution_count": 6,
   "id": "d0c891b3-325c-4c74-8750-a153a62fe52d",
   "metadata": {},
   "outputs": [],
   "source": [
    "# graph.query(\n",
    "#     \"\"\"\n",
    "# MERGE (a:Article {pan: \"20183000178\", title: \"The ebola epidemic in West Africa: proceedings of a workshop.\", abstract: \"This proceedings summarizes the presentations and discussions of the workshop convened by the Forum of Microbial Threats in March 2015, and consists of the information presented, questions raised, and improvements recommended by individual workshop participants. Chapter 2 outlines the trajectory and response to the most recent Ebola outbreak that occurred in West Africa. It includes lessons learned from previous outbreaks that could have been applied to this one, the distinction between this and previous outbreaks, and the challenges in Ebola treatment and control. Chapter 3 discusses case examples of emergency response and preparedness around the world. Finally, Chapter 4 examines current and future research opportunities to study the transmission, diagnosis, proper containment of the ill, and vaccine development. It also discusses the importance of developing a global health risk framework in case of another Ebola-like disease outbreak.\"})\n",
    "\n",
    "# MERGE (auth1:Author {name: \"A.Mack\"})\n",
    "# MERGE (auth2:Author {name: \"M. R. Snair\"})\n",
    "# MERGE (auth3:Author {name: \"C.Mundaca-Shah\"})\n",
    "\n",
    "# MERGE (a)-[:HAS_AUTHOR]->(auth1)\n",
    "# MERGE (a)-[:HAS_AUTHOR]->(auth2)\n",
    "# MERGE (a)-[:HAS_AUTHOR]->(auth3)\n",
    "\n",
    "# MERGE (c1:Concept {name: \"diagnosis\", uri: \"https://id.cabi.org/cabt/38337\"})\n",
    "# MERGE (c2:Concept {name: \"Ebolavirus\", uri: \"https://id.cabi.org/cabt/41510\"})\n",
    "# MERGE (c3:Concept {name: \"West Africa\", uri: \"https://id.cabi.org/cabt/124364\"})\n",
    "# MERGE (c4:Concept {name: \"Filoviridae\", uri: \"https://id.cabi.org/cabt/48196\"})\n",
    "# MERGE (c5:Concept {name: \"Bundibugyo ebolaviru\", uri: \"https://id.cabi.org/cabt/275494\"})\n",
    "# MERGE (c6:Concept {name: \"Africa South of Sahara\", uri: \"https://id.cabi.org/cabt/6730\"})\n",
    "# MERGE (c7:Concept {name: \"Sahel\", uri: \"https://id.cabi.org/cabt/18171\"})\n",
    "# MERGE (c8:Concept {name: \"Benin\", uri: \"https://id.cabi.org/cabt/18171\"})\n",
    "\n",
    "# MERGE (a)-[:HAS_PREFERRED_TERM]->(c1)\n",
    "# MERGE (a)-[:HAS_ORGANISM_TERM]->(c2)\n",
    "# MERGE (a)-[:HAS_GEOGRAPHIC_TERM]->(c3)\n",
    "\n",
    "# MERGE (c2)-[:BROADER_TERM]->(c4)\n",
    "# MERGE (c2)-[:NARROWER_TERM]->(c5)\n",
    "\n",
    "# MERGE (c3)-[:BROADER_TERM]->(c6)\n",
    "# MERGE (c3)-[:NARROWER_TERM]->(c8)\n",
    "# MERGE (c3)-[:RELATED_TERM]->(c7)\n",
    "\n",
    "# \"\"\"\n",
    "# )\n",
    "\n",
    "graph.refresh_schema()"
   ]
  },
  {
   "cell_type": "code",
   "execution_count": 7,
   "id": "786833c2-7d6b-4f88-ad96-df5778809360",
   "metadata": {},
   "outputs": [
    {
     "name": "stdout",
     "output_type": "stream",
     "text": [
      "\n",
      "        Node properties are the following:\n",
      "        [{'properties': [{'property': 'publishing_date', 'type': 'STRING'}, {'property': 'document_type', 'type': 'STRING'}, {'property': 'vector', 'type': 'LIST'}, {'property': 'info', 'type': 'STRING'}, {'property': 'isbn', 'type': 'STRING'}, {'property': 'id', 'type': 'STRING'}, {'property': 'pan', 'type': 'STRING'}, {'property': 'title', 'type': 'STRING'}, {'property': 'source', 'type': 'STRING'}, {'property': 'uri', 'type': 'STRING'}, {'property': 'name', 'type': 'STRING'}], 'labels': 'PublishingDataChunk'}]\n",
      "        Relationship properties are the following:\n",
      "        []\n",
      "        The relationships are the following:\n",
      "        ['(:PublishingDataChunk)-[:HAS_GEOGRAPHIC_TERM]->(:PublishingDataChunk)', '(:PublishingDataChunk)-[:HAS_PREFERRED_TERM]->(:PublishingDataChunk)', '(:PublishingDataChunk)-[:HAS_ORGANISM_TERM]->(:PublishingDataChunk)', '(:PublishingDataChunk)-[:RELATED_TERM]->(:PublishingDataChunk)', '(:PublishingDataChunk)-[:NARROWER_TERM_FOR]->(:PublishingDataChunk)', '(:PublishingDataChunk)-[:BROADER_TERM_FOR]->(:PublishingDataChunk)']\n",
      "        \n"
     ]
    }
   ],
   "source": [
    "print(graph.get_schema)"
   ]
  },
  {
   "cell_type": "code",
   "execution_count": 37,
   "id": "0b80bbac-380f-4036-ad9e-a9bb26830059",
   "metadata": {},
   "outputs": [],
   "source": [
    "from langchain.prompts.prompt import PromptTemplate\n",
    "\n",
    "\n",
    "# CYPHER_GENERATION_TEMPLATE = \"\"\"Task:Generate Cypher statement to query a graph database.\n",
    "# Instructions:\n",
    "# Use only the provided relationship types and properties in the schema.\n",
    "# Do not use any other relationship types or properties that are not provided.\n",
    "# Schema:\n",
    "# {schema}\n",
    "# Note: Do not include any explanations or apologies in your responses.\n",
    "# Ensure to handle the results of the Cypher query correctly in the subsequent stages of your application to convey the correct results to the user.\n",
    "# Do not respond to any questions that might ask anything else than for you to construct a Cypher statement.\n",
    "# Do not include any text except the generated Cypher statement.\n",
    "# Examples: Here are a few examples of generated Cypher statements for particular questions:\n",
    "# # What organisms are mentioned in article about ebola epidemic in West Africa?\n",
    "# MATCH (a:Article)\n",
    "# WHERE a.title =~ '.*ebola epidemic in West Africa.*'\n",
    "# MATCH (a)-[:HAS_ORGANISM_TERM]->(concept:Concept)\n",
    "# RETURN concept.name\n",
    "\n",
    "# # Which articles are written by M. R. Snair?\n",
    "# MATCH (a:Author)\n",
    "# WHERE a.name =~ '.*M\\\\. R\\\\. Snair.*'\n",
    "# MATCH (a)-[:HAS_AUTHOR]-(article:Article)\n",
    "# RETURN article.title\n",
    "\n",
    "# # Who are the authors for article ebola epidemic in West Africa?\n",
    "# MATCH (a:Article)\n",
    "# WHERE a.title =~ '.*ebola epidemic in West Africa.*'\n",
    "# MATCH (a)-[:HAS_AUTHOR]->(author:Author)\n",
    "# RETURN author.name\n",
    "\n",
    "# The question is:\n",
    "# {question}\"\"\"\n",
    "\n",
    "CYPHER_GENERATION_TEMPLATE = \"\"\"Task:Generate Cypher statement to query a graph database.\n",
    "Instructions:\n",
    "Use only the provided relationship types and properties in the schema.\n",
    "Do not use any other relationship types or properties that are not provided.\n",
    "Schema:\n",
    "{schema}\n",
    "Note: Do not include any explanations or apologies in your responses.\n",
    "Ensure to handle the results of the Cypher query correctly in the subsequent stages of your application to convey the correct results to the user.\n",
    "Do not respond to any questions that might ask anything else than for you to construct a Cypher statement.\n",
    "Do not include any text except the generated Cypher statement.\n",
    "Examples: Here are a few examples of generated Cypher statements for particular questions:\n",
    "# What organisms are mentioned in article about ebola epidemic in West Africa?\n",
    "MATCH (a:Article)\n",
    "WHERE a.title =~ '.*ebola epidemic in West Africa.*'\n",
    "MATCH (a)-[:HAS_ORGANISM_TERM]->(concept:Concept)\n",
    "RETURN concept.name\n",
    "\n",
    "#Give me 5 most latest published articles\n",
    "MATCH (a:PublishingDataChunk)\n",
    "WHERE a.document_type = 'article'\n",
    "RETURN a.title, a.publishing_date\n",
    "ORDER BY a.publishing_date DESC\n",
    "LIMIT 5\n",
    "\n",
    "# Which articles are written by M. R. Snair?\n",
    "MATCH (a:PublishingDataChunk)\n",
    "WHERE a.info CONTAINS '\\n    Authors:\\n        - M. R. Snair'\n",
    "WITH split(a.info, '\\n') AS lines\n",
    "WITH lines, [i IN range(0, size(lines) - 1) WHERE toLower(trim(lines[i])) CONTAINS 'title:'] AS titleIndices\n",
    "WITH lines, titleIndices, titleIndices[0] AS titleIdx\n",
    "RETURN trim(replace(lines[titleIdx], \"Title:\", \"\")) AS Article_Title\n",
    "\n",
    "\n",
    "# Who are the authors for article ebola epidemic in West Africa?\n",
    "MATCH (a:PublishingDataChunk)\n",
    "WHERE toLower(a.info) CONTAINS 'title: the ebola epidemic in west africa'\n",
    "AND toLower(a.info) CONTAINS 'authors:'\n",
    "WITH split(a.info, '\\n') AS lines\n",
    "WITH lines, [i IN range(0, size(lines) - 1) WHERE toLower(trim(lines[i])) STARTS WITH 'authors'] AS authorLineIndices\n",
    "UNWIND authorLineIndices AS idx\n",
    "WITH lines[idx + 1] AS authorLine\n",
    "RETURN trim(replace(authorLine, \"-\", \"\")) AS Author_Name\n",
    "\n",
    "The question is:\n",
    "{question}\"\"\"\n",
    "\n",
    "\n",
    "\n",
    "CYPHER_GENERATION_PROMPT = PromptTemplate(\n",
    "    input_variables=[\"schema\", \"question\"], template=CYPHER_GENERATION_TEMPLATE\n",
    ")\n",
    "\n",
    "chain = GraphCypherQAChain.from_llm(\n",
    "    ChatOpenAI(model=os.getenv('PublishingChatGPT_Open_AI_Model'), openai_api_key=OPEN_AI_API_SECRET, temperature=0), graph=graph, verbose=True, cypher_prompt=CYPHER_GENERATION_PROMPT\n",
    ")\n",
    "\n",
    "# chain = GraphCypherQAChain.from_llm(\n",
    "#      graph=graph,\n",
    "#      cypher_llm=ChatOpenAI(temperature=0, model=\"gpt-3.5-turbo\", openai_api_key=OPEN_AI_API_SECRET),\n",
    "#      qa_llm=ChatOpenAI(temperature=0, model=\"gpt-3.5-turbo\", openai_api_key=OPEN_AI_API_SECRET),\n",
    "#      cypher_prompt=CYPHER_GENERATION_PROMPT,\n",
    "#      verbose=True,\n",
    "# )"
   ]
  },
  {
   "cell_type": "code",
   "execution_count": 28,
   "id": "6a8a3864-89bc-4238-ba8c-a27e343a9b91",
   "metadata": {},
   "outputs": [
    {
     "name": "stdout",
     "output_type": "stream",
     "text": [
      "\n",
      "\n",
      "\u001b[1m> Entering new GraphCypherQAChain chain...\u001b[0m\n",
      "Generated Cypher:\n",
      "\u001b[32;1m\u001b[1;3mMATCH (a:PublishingDataChunk)\n",
      "WHERE a.title =~ '.*ebola epidemic in West Africa.*'\n",
      "MATCH (a)-[:HAS_ORGANISM_TERM]->(concept:PublishingDataChunk)\n",
      "RETURN concept.name\u001b[0m\n",
      "Full Context:\n",
      "\u001b[32;1m\u001b[1;3m[{'concept.name': 'man'}, {'concept.name': 'Ebolavirus'}]\u001b[0m\n",
      "\n",
      "\u001b[1m> Finished chain.\u001b[0m\n"
     ]
    },
    {
     "data": {
      "text/plain": [
       "'The organisms mentioned in the article about the Ebola epidemic in West Africa are man and Ebolavirus.'"
      ]
     },
     "execution_count": 28,
     "metadata": {},
     "output_type": "execute_result"
    }
   ],
   "source": [
    "chain.run(\"What organisms are mentioned in article about ebola epidemic in West Africa?\")"
   ]
  },
  {
   "cell_type": "code",
   "execution_count": 29,
   "id": "1cc096f0-89f4-46cc-8dda-78c12f9d9960",
   "metadata": {},
   "outputs": [
    {
     "name": "stdout",
     "output_type": "stream",
     "text": [
      "\n",
      "\n",
      "\u001b[1m> Entering new GraphCypherQAChain chain...\u001b[0m\n",
      "Generated Cypher:\n",
      "\u001b[32;1m\u001b[1;3mMATCH (a:PublishingDataChunk)\n",
      "WHERE toLower(a.info) CONTAINS 'title: the ebola epidemic in west africa'\n",
      "AND toLower(a.info) CONTAINS 'authors:'\n",
      "WITH split(a.info, '\n",
      "') AS lines\n",
      "WITH lines, [i IN range(0, size(lines) - 1) WHERE toLower(trim(lines[i])) STARTS WITH 'authors'] AS authorLineIndices\n",
      "UNWIND authorLineIndices AS idx\n",
      "WITH lines[idx + 1] AS authorLine\n",
      "RETURN trim(replace(authorLine, \"-\", \"\")) AS Author_Name\u001b[0m\n",
      "Full Context:\n",
      "\u001b[32;1m\u001b[1;3m[{'Author_Name': 'A. Mack'}, {'Author_Name': 'M. R. Snair'}, {'Author_Name': 'C. MundacaShah'}]\u001b[0m\n",
      "\n",
      "\u001b[1m> Finished chain.\u001b[0m\n"
     ]
    },
    {
     "data": {
      "text/plain": [
       "'The authors for the article on the Ebola epidemic in West Africa are A. Mack, M. R. Snair, and C. MundacaShah.'"
      ]
     },
     "execution_count": 29,
     "metadata": {},
     "output_type": "execute_result"
    }
   ],
   "source": [
    "chain.run(\"Who are the authors for article ebola epidemic in West Africa?\")"
   ]
  },
  {
   "cell_type": "code",
   "execution_count": 31,
   "id": "960d09d4-7103-4224-a93c-6954841fa49e",
   "metadata": {},
   "outputs": [
    {
     "name": "stdout",
     "output_type": "stream",
     "text": [
      "\n",
      "\n",
      "\u001b[1m> Entering new GraphCypherQAChain chain...\u001b[0m\n",
      "Generated Cypher:\n",
      "\u001b[32;1m\u001b[1;3mMATCH (a:PublishingDataChunk)\n",
      "WHERE a.info CONTAINS '\n",
      "    Authors:\n",
      "        - M. R. Snair'\n",
      "WITH split(a.info, '\n",
      "') AS lines\n",
      "WITH lines, [i IN range(0, size(lines) - 1) WHERE toLower(trim(lines[i])) CONTAINS 'title:'] AS titleIndices\n",
      "WITH lines, titleIndices, titleIndices[0] AS titleIdx\n",
      "RETURN trim(replace(lines[titleIdx], \"Title:\", \"\")) AS Article_Title\u001b[0m\n",
      "Full Context:\n",
      "\u001b[32;1m\u001b[1;3m[{'Article_Title': 'The ebola epidemic in West Africa: proceedings of a workshop.'}]\u001b[0m\n",
      "\n",
      "\u001b[1m> Finished chain.\u001b[0m\n"
     ]
    },
    {
     "data": {
      "text/plain": [
       "\"I'm sorry, but I don't have any information about an article written by M. R. Snair.\""
      ]
     },
     "execution_count": 31,
     "metadata": {},
     "output_type": "execute_result"
    }
   ],
   "source": [
    "chain.run(\"Which article is written by M. R. Snair?\")"
   ]
  },
  {
   "cell_type": "code",
   "execution_count": 38,
   "id": "50603d5d-6fa4-49d3-9e89-51c18e331c08",
   "metadata": {},
   "outputs": [
    {
     "name": "stdout",
     "output_type": "stream",
     "text": [
      "\n",
      "\n",
      "\u001b[1m> Entering new GraphCypherQAChain chain...\u001b[0m\n",
      "Generated Cypher:\n",
      "\u001b[32;1m\u001b[1;3mMATCH (a:PublishingDataChunk)\n",
      "WHERE a.document_type = 'article'\n",
      "RETURN a.title, a.publishing_date\n",
      "ORDER BY a.publishing_date DESC\n",
      "LIMIT 5\u001b[0m\n",
      "Full Context:\n",
      "\u001b[32;1m\u001b[1;3m[{'a.title': 'Special Issue: British HIV Association guidelines for the management of HIV-2 2021.', 'a.publishing_date': '2022-09-29'}, {'a.title': 'Micronutrient malnutrition across the life course, sarcopenia and frailty. Winter Conference Live 2020, 8-9 December 2020.', 'a.publishing_date': '2022-09-27'}, {'a.title': 'Irish Section Conference 2021: Nutrition, health and ageing - translating science into practice, Online, 22-24 June 2021.', 'a.publishing_date': '2022-09-27'}, {'a.title': 'Global Health: New Trends. Coimbra Health School Annual Meeting 2021, Coimbra, Portugal, 17-19 June 2021.', 'a.publishing_date': '2022-09-26'}, {'a.title': 'IEA World Congress of Epidemiology 2021, 3-6 September 2021.', 'a.publishing_date': '2022-09-26'}]\u001b[0m\n",
      "\n",
      "\u001b[1m> Finished chain.\u001b[0m\n"
     ]
    },
    {
     "data": {
      "text/plain": [
       "'The five most recently published articles are:\\n\\n1. \"Special Issue: British HIV Association guidelines for the management of HIV-2 2021.\" published on September 29, 2022.\\n2. \"Micronutrient malnutrition across the life course, sarcopenia and frailty. Winter Conference Live 2020, 8-9 December 2020.\" published on September 27, 2022.\\n3. \"Irish Section Conference 2021: Nutrition, health and ageing - translating science into practice, Online, 22-24 June 2021.\" published on September 27, 2022.\\n4. \"Global Health: New Trends. Coimbra Health School Annual Meeting 2021, Coimbra, Portugal, 17-19 June 2021.\" published on September 26, 2022.\\n5. \"IEA World Congress of Epidemiology 2021, 3-6 September 2021.\" published on September 26, 2022.'"
      ]
     },
     "execution_count": 38,
     "metadata": {},
     "output_type": "execute_result"
    }
   ],
   "source": [
    "chain.run(\"Give me 5 most latest published articles\")"
   ]
  }
 ],
 "metadata": {
  "kernelspec": {
   "display_name": "Python 3 (ipykernel)",
   "language": "python",
   "name": "python3"
  },
  "language_info": {
   "codemirror_mode": {
    "name": "ipython",
    "version": 3
   },
   "file_extension": ".py",
   "mimetype": "text/x-python",
   "name": "python",
   "nbconvert_exporter": "python",
   "pygments_lexer": "ipython3",
   "version": "3.11.4"
  }
 },
 "nbformat": 4,
 "nbformat_minor": 5
}
