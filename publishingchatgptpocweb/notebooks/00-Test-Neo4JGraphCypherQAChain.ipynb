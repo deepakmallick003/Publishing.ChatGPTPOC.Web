{
 "cells": [
  {
   "cell_type": "code",
   "execution_count": 1,
   "id": "e6c757b9-55f8-433e-99f0-9da1474744b7",
   "metadata": {},
   "outputs": [
    {
     "data": {
      "text/plain": [
       "True"
      ]
     },
     "execution_count": 1,
     "metadata": {},
     "output_type": "execute_result"
    }
   ],
   "source": [
    "import os\n",
    "import openai\n",
    "import networkx as nx\n",
    "import xml.etree.ElementTree as ET\n",
    "import requests\n",
    "from pathlib import Path\n",
    "from dotenv import load_dotenv\n",
    "load_dotenv()"
   ]
  },
  {
   "cell_type": "code",
   "execution_count": 2,
   "id": "9334986e-dba7-4a02-b84e-77b8808b83fe",
   "metadata": {},
   "outputs": [],
   "source": [
    "from langchain.llms import OpenAI\n",
    "from langchain.chat_models import ChatOpenAI\n",
    "from langchain.chains import GraphCypherQAChain\n",
    "from langchain.graphs import Neo4jGraph\n",
    "from neo4j import GraphDatabase"
   ]
  },
  {
   "cell_type": "code",
   "execution_count": 3,
   "id": "8d8c33a8-6995-4cf9-a94f-b1b12a3771ec",
   "metadata": {},
   "outputs": [],
   "source": [
    "PARENT_PATH = Path.cwd().parent\n",
    "if 'publishingchatgptpocweb' not in str(PARENT_PATH):\n",
    "    PARENT_PATH = PARENT_PATH / 'publishingchatgptpocweb'\n",
    "\n",
    "CORE_DIRECTORY = PARENT_PATH / 'core'\n",
    "DATA_DIRECTORY = PARENT_PATH / 'data'\n",
    "\n",
    "SPAQRQL_QUERY_FILE_PATH = CORE_DIRECTORY / 'sparql_query_template.sparql'\n",
    "JATS_DATA_DIRECTORY_PATH = DATA_DIRECTORY / 'raw'\n",
    "BASIC_GRAPH_SAVED_FILE_PATH = DATA_DIRECTORY / 'processed' / 'basic_graph.gml'\n",
    "OPEN_AI_GRAPH_SAVED_FILE_PATH = DATA_DIRECTORY / 'processed' / 'open_ai_graph.gml'\n",
    "USE_OPEN_AI=True"
   ]
  },
  {
   "cell_type": "code",
   "execution_count": 4,
   "id": "0047a0be-6c32-4f2e-9f1d-2fb04f284290",
   "metadata": {},
   "outputs": [],
   "source": [
    "OPEN_AI_API_SECRET = os.getenv('Open__AI__API__Secret')\n",
    "openai.api_key = OPEN_AI_API_SECRET"
   ]
  },
  {
   "cell_type": "code",
   "execution_count": 5,
   "id": "dc4b8609-5240-4d44-bc9a-2297a6e3ef32",
   "metadata": {},
   "outputs": [],
   "source": [
    "graph = Neo4jGraph(\n",
    "    url=\"bolt://localhost:7687\", username=\"neo4j\", password=\"TGPPubCABIFirstAttempt\"\n",
    ")"
   ]
  },
  {
   "cell_type": "code",
   "execution_count": null,
   "id": "d0c891b3-325c-4c74-8750-a153a62fe52d",
   "metadata": {},
   "outputs": [],
   "source": [
    "# graph.query(\n",
    "#     \"\"\"\n",
    "# MERGE (a:Article {pan: \"20183000178\", title: \"The ebola epidemic in West Africa: proceedings of a workshop.\", abstract: \"This proceedings summarizes the presentations and discussions of the workshop convened by the Forum of Microbial Threats in March 2015, and consists of the information presented, questions raised, and improvements recommended by individual workshop participants. Chapter 2 outlines the trajectory and response to the most recent Ebola outbreak that occurred in West Africa. It includes lessons learned from previous outbreaks that could have been applied to this one, the distinction between this and previous outbreaks, and the challenges in Ebola treatment and control. Chapter 3 discusses case examples of emergency response and preparedness around the world. Finally, Chapter 4 examines current and future research opportunities to study the transmission, diagnosis, proper containment of the ill, and vaccine development. It also discusses the importance of developing a global health risk framework in case of another Ebola-like disease outbreak.\"})\n",
    "\n",
    "# MERGE (auth1:Author {name: \"A.Mack\"})\n",
    "# MERGE (auth2:Author {name: \"M. R. Snair\"})\n",
    "# MERGE (auth3:Author {name: \"C.Mundaca-Shah\"})\n",
    "\n",
    "# MERGE (a)-[:HAS_AUTHOR]->(auth1)\n",
    "# MERGE (a)-[:HAS_AUTHOR]->(auth2)\n",
    "# MERGE (a)-[:HAS_AUTHOR]->(auth3)\n",
    "\n",
    "# MERGE (c1:Concept {name: \"diagnosis\", uri: \"https://id.cabi.org/cabt/38337\"})\n",
    "# MERGE (c2:Concept {name: \"Ebolavirus\", uri: \"https://id.cabi.org/cabt/41510\"})\n",
    "# MERGE (c3:Concept {name: \"West Africa\", uri: \"https://id.cabi.org/cabt/124364\"})\n",
    "# MERGE (c4:Concept {name: \"Filoviridae\", uri: \"https://id.cabi.org/cabt/48196\"})\n",
    "# MERGE (c5:Concept {name: \"Bundibugyo ebolaviru\", uri: \"https://id.cabi.org/cabt/275494\"})\n",
    "# MERGE (c6:Concept {name: \"Africa South of Sahara\", uri: \"https://id.cabi.org/cabt/6730\"})\n",
    "# MERGE (c7:Concept {name: \"Sahel\", uri: \"https://id.cabi.org/cabt/18171\"})\n",
    "# MERGE (c8:Concept {name: \"Benin\", uri: \"https://id.cabi.org/cabt/18171\"})\n",
    "\n",
    "# MERGE (a)-[:HAS_PREFERRED_TERM]->(c1)\n",
    "# MERGE (a)-[:HAS_ORGANISM_TERM]->(c2)\n",
    "# MERGE (a)-[:HAS_GEOGRAPHIC_TERM]->(c3)\n",
    "\n",
    "# MERGE (c2)-[:BROADER_TERM]->(c4)\n",
    "# MERGE (c2)-[:NARROWER_TERM]->(c5)\n",
    "\n",
    "# MERGE (c3)-[:BROADER_TERM]->(c6)\n",
    "# MERGE (c3)-[:NARROWER_TERM]->(c8)\n",
    "# MERGE (c3)-[:RELATED_TERM]->(c7)\n",
    "\n",
    "# \"\"\"\n",
    "# )\n",
    "\n",
    "graph.refresh_schema()"
   ]
  },
  {
   "cell_type": "code",
   "execution_count": 6,
   "id": "786833c2-7d6b-4f88-ad96-df5778809360",
   "metadata": {},
   "outputs": [
    {
     "name": "stdout",
     "output_type": "stream",
     "text": [
      "\n",
      "        Node properties are the following:\n",
      "        [{'properties': [{'property': 'abstract', 'type': 'STRING'}, {'property': 'pan', 'type': 'STRING'}, {'property': 'title', 'type': 'STRING'}], 'labels': 'Article'}, {'properties': [{'property': 'name', 'type': 'STRING'}], 'labels': 'Author'}, {'properties': [{'property': 'uri', 'type': 'STRING'}, {'property': 'name', 'type': 'STRING'}], 'labels': 'Concept'}]\n",
      "        Relationship properties are the following:\n",
      "        []\n",
      "        The relationships are the following:\n",
      "        ['(:Article)-[:HAS_AUTHOR]->(:Author)', '(:Article)-[:HAS_PREFERRED_TERM]->(:Concept)', '(:Article)-[:HAS_ORGANISM_TERM]->(:Concept)', '(:Article)-[:HAS_GEOGRAPHIC_TERM]->(:Concept)', '(:Author)-[:HAS_WRITTEN]->(:Article)', '(:Concept)-[:NARROWER_TERM]->(:Concept)', '(:Concept)-[:BROADER_TERM]->(:Concept)', '(:Concept)-[:RELATED_TERM]->(:Concept)']\n",
      "        \n"
     ]
    }
   ],
   "source": [
    "print(graph.get_schema)"
   ]
  },
  {
   "cell_type": "code",
   "execution_count": 7,
   "id": "0b80bbac-380f-4036-ad9e-a9bb26830059",
   "metadata": {},
   "outputs": [],
   "source": [
    "from langchain.prompts.prompt import PromptTemplate\n",
    "\n",
    "\n",
    "CYPHER_GENERATION_TEMPLATE = \"\"\"Task:Generate Cypher statement to query a graph database.\n",
    "Instructions:\n",
    "Use only the provided relationship types and properties in the schema.\n",
    "Do not use any other relationship types or properties that are not provided.\n",
    "Schema:\n",
    "{schema}\n",
    "Note: Do not include any explanations or apologies in your responses.\n",
    "Ensure to handle the results of the Cypher query correctly in the subsequent stages of your application to convey the correct results to the user.\n",
    "Do not respond to any questions that might ask anything else than for you to construct a Cypher statement.\n",
    "Do not include any text except the generated Cypher statement.\n",
    "Examples: Here are a few examples of generated Cypher statements for particular questions:\n",
    "# What organisms are mentioned in article about ebola epidemic in West Africa?\n",
    "MATCH (a:Article)\n",
    "WHERE a.title =~ '.*ebola epidemic in West Africa.*'\n",
    "MATCH (a)-[:HAS_ORGANISM_TERM]->(concept:Concept)\n",
    "RETURN concept.name\n",
    "\n",
    "# Which articles are written by M. R. Snair?\n",
    "MATCH (a:Author)\n",
    "WHERE a.name =~ '.*M\\\\. R\\\\. Snair.*'\n",
    "MATCH (a)-[:HAS_AUTHOR]-(article:Article)\n",
    "RETURN article.title\n",
    "\n",
    "# Who are the authors for article ebola epidemic in West Africa?\n",
    "MATCH (a:Article)\n",
    "WHERE a.title =~ '.*ebola epidemic in West Africa.*'\n",
    "MATCH (a)-[:HAS_AUTHOR]->(author:Author)\n",
    "RETURN author.name\n",
    "\n",
    "The question is:\n",
    "{question}\"\"\"\n",
    "\n",
    "\n",
    "CYPHER_GENERATION_PROMPT = PromptTemplate(\n",
    "    input_variables=[\"schema\", \"question\"], template=CYPHER_GENERATION_TEMPLATE\n",
    ")\n",
    "\n",
    "chain = GraphCypherQAChain.from_llm(\n",
    "    ChatOpenAI(model=\"gpt-3.5-turbo\", openai_api_key=OPEN_AI_API_SECRET, temperature=0), graph=graph, verbose=True, cypher_prompt=CYPHER_GENERATION_PROMPT\n",
    ")\n",
    "\n",
    "# chain = GraphCypherQAChain.from_llm(\n",
    "#      graph=graph,\n",
    "#      cypher_llm=ChatOpenAI(temperature=0, model=\"gpt-3.5-turbo\", openai_api_key=OPEN_AI_API_SECRET),\n",
    "#      qa_llm=ChatOpenAI(temperature=0, model=\"gpt-3.5-turbo\", openai_api_key=OPEN_AI_API_SECRET),\n",
    "#      cypher_prompt=CYPHER_GENERATION_PROMPT,\n",
    "#      verbose=True,\n",
    "# )"
   ]
  },
  {
   "cell_type": "code",
   "execution_count": 8,
   "id": "6a8a3864-89bc-4238-ba8c-a27e343a9b91",
   "metadata": {},
   "outputs": [
    {
     "name": "stdout",
     "output_type": "stream",
     "text": [
      "\n",
      "\n",
      "\u001b[1m> Entering new GraphCypherQAChain chain...\u001b[0m\n",
      "Generated Cypher:\n",
      "\u001b[32;1m\u001b[1;3mMATCH (a:Article)\n",
      "WHERE a.title =~ '.*ebola epidemic in West Africa.*'\n",
      "MATCH (a)-[:HAS_ORGANISM_TERM]->(concept:Concept)\n",
      "RETURN concept.name\u001b[0m\n",
      "Full Context:\n",
      "\u001b[32;1m\u001b[1;3m[{'concept.name': 'Ebolavirus'}]\u001b[0m\n",
      "\n",
      "\u001b[1m> Finished chain.\u001b[0m\n"
     ]
    },
    {
     "data": {
      "text/plain": [
       "'The article about the Ebola epidemic in West Africa mentions the Ebolavirus.'"
      ]
     },
     "execution_count": 8,
     "metadata": {},
     "output_type": "execute_result"
    }
   ],
   "source": [
    "chain.run(\"What organisms are mentioned in article about ebola epidemic in West Africa?\")"
   ]
  },
  {
   "cell_type": "code",
   "execution_count": 9,
   "id": "602b89e2-d58c-4e8e-ae2f-4d6aea39e98b",
   "metadata": {},
   "outputs": [
    {
     "name": "stdout",
     "output_type": "stream",
     "text": [
      "\n",
      "\n",
      "\u001b[1m> Entering new GraphCypherQAChain chain...\u001b[0m\n",
      "Generated Cypher:\n",
      "\u001b[32;1m\u001b[1;3mMATCH (a:Article)\n",
      "WHERE a.title =~ '.*ebola epidemic in West Africa.*'\n",
      "RETURN a.abstract\u001b[0m\n",
      "Full Context:\n",
      "\u001b[32;1m\u001b[1;3m[{'a.abstract': 'This proceedings summarizes the presentations and discussions of the workshop convened by the Forum of Microbial Threats in March 2015, and consists of the information presented, questions raised, and improvements recommended by individual workshop participants. Chapter 2 outlines the trajectory and response to the most recent Ebola outbreak that occurred in West Africa. It includes lessons learned from previous outbreaks that could have been applied to this one, the distinction between this and previous outbreaks, and the challenges in Ebola treatment and control. Chapter 3 discusses case examples of emergency response and preparedness around the world. Finally, Chapter 4 examines current and future research opportunities to study the transmission, diagnosis, proper containment of the ill, and vaccine development. It also discusses the importance of developing a global health risk framework in case of another Ebola-like disease outbreak.'}]\u001b[0m\n",
      "\n",
      "\u001b[1m> Finished chain.\u001b[0m\n"
     ]
    },
    {
     "data": {
      "text/plain": [
       "'The workshop proceedings provide a summary of the presentations and discussions on the Ebola epidemic in West Africa. Chapter 2 specifically outlines the trajectory and response to the most recent outbreak, highlighting lessons learned from previous outbreaks that could have been applied. It also discusses the challenges in Ebola treatment and control. If you would like more detailed information, I can provide you with the specific chapters from the workshop proceedings.'"
      ]
     },
     "execution_count": 9,
     "metadata": {},
     "output_type": "execute_result"
    }
   ],
   "source": [
    "chain.run(\"Can you tell me a more about the ebola epidemic in West Africa?\")"
   ]
  },
  {
   "cell_type": "code",
   "execution_count": 10,
   "id": "1cc096f0-89f4-46cc-8dda-78c12f9d9960",
   "metadata": {},
   "outputs": [
    {
     "name": "stdout",
     "output_type": "stream",
     "text": [
      "\n",
      "\n",
      "\u001b[1m> Entering new GraphCypherQAChain chain...\u001b[0m\n",
      "Generated Cypher:\n",
      "\u001b[32;1m\u001b[1;3mMATCH (a:Article)\n",
      "WHERE a.title =~ '.*ebola epidemic in West Africa.*'\n",
      "MATCH (a)-[:HAS_AUTHOR]->(author:Author)\n",
      "RETURN author.name\u001b[0m\n",
      "Full Context:\n",
      "\u001b[32;1m\u001b[1;3m[{'author.name': 'C.Mundaca-Shah'}, {'author.name': 'M. R. Snair'}, {'author.name': 'A.Mack'}]\u001b[0m\n",
      "\n",
      "\u001b[1m> Finished chain.\u001b[0m\n"
     ]
    },
    {
     "data": {
      "text/plain": [
       "'The authors for the article on the Ebola epidemic in West Africa are C. Mundaca-Shah, M. R. Snair, and A. Mack.'"
      ]
     },
     "execution_count": 10,
     "metadata": {},
     "output_type": "execute_result"
    }
   ],
   "source": [
    "chain.run(\"Who are the authors for article ebola epidemic in West Africa?\")"
   ]
  },
  {
   "cell_type": "code",
   "execution_count": 11,
   "id": "960d09d4-7103-4224-a93c-6954841fa49e",
   "metadata": {},
   "outputs": [
    {
     "name": "stdout",
     "output_type": "stream",
     "text": [
      "\n",
      "\n",
      "\u001b[1m> Entering new GraphCypherQAChain chain...\u001b[0m\n",
      "Generated Cypher:\n",
      "\u001b[32;1m\u001b[1;3mMATCH (a:Author)\n",
      "WHERE a.name = 'M. R. Snair'\n",
      "MATCH (a)-[:HAS_WRITTEN]->(article:Article)\n",
      "RETURN article.title\u001b[0m\n",
      "Full Context:\n",
      "\u001b[32;1m\u001b[1;3m[{'article.title': 'The ebola epidemic in West Africa: proceedings of a workshop.'}]\u001b[0m\n",
      "\n",
      "\u001b[1m> Finished chain.\u001b[0m\n"
     ]
    },
    {
     "data": {
      "text/plain": [
       "\"I'm sorry, but I don't have the information about which article is written by M. R. Snair.\""
      ]
     },
     "execution_count": 11,
     "metadata": {},
     "output_type": "execute_result"
    }
   ],
   "source": [
    "chain.run(\"Which article is written by M. R. Snair?\")"
   ]
  },
  {
   "cell_type": "code",
   "execution_count": 12,
   "id": "9a65f51d-d5e6-4da1-b1ca-e80a72c0aa7c",
   "metadata": {},
   "outputs": [
    {
     "name": "stdout",
     "output_type": "stream",
     "text": [
      "\n",
      "\n",
      "\u001b[1m> Entering new GraphCypherQAChain chain...\u001b[0m\n",
      "Generated Cypher:\n",
      "\u001b[32;1m\u001b[1;3mMATCH (a:Article)\n",
      "WHERE a.title =~ '.*developing a global health risk framework.*'\n",
      "RETURN a.abstract\u001b[0m\n",
      "Full Context:\n",
      "\u001b[32;1m\u001b[1;3m[]\u001b[0m\n",
      "\n",
      "\u001b[1m> Finished chain.\u001b[0m\n"
     ]
    },
    {
     "data": {
      "text/plain": [
       "'Developing a global health risk framework is of utmost importance as it provides a structured approach to understanding and addressing health risks on a global scale. This framework allows for a comprehensive assessment of potential health threats, enabling countries and organizations to better prepare and respond to emerging diseases and pandemics. By establishing a standardized framework, it promotes collaboration and information sharing among nations, facilitating a coordinated global response to health crises. Additionally, a global health risk framework helps to identify and prioritize areas for intervention, ensuring that resources are allocated efficiently and effectively to protect public health worldwide.'"
      ]
     },
     "execution_count": 12,
     "metadata": {},
     "output_type": "execute_result"
    }
   ],
   "source": [
    "chain.run(\"What is importance of developing a global health risk framework?\")"
   ]
  },
  {
   "cell_type": "code",
   "execution_count": null,
   "id": "50603d5d-6fa4-49d3-9e89-51c18e331c08",
   "metadata": {},
   "outputs": [],
   "source": []
  }
 ],
 "metadata": {
  "kernelspec": {
   "display_name": "Python 3 (ipykernel)",
   "language": "python",
   "name": "python3"
  },
  "language_info": {
   "codemirror_mode": {
    "name": "ipython",
    "version": 3
   },
   "file_extension": ".py",
   "mimetype": "text/x-python",
   "name": "python",
   "nbconvert_exporter": "python",
   "pygments_lexer": "ipython3",
   "version": "3.11.4"
  }
 },
 "nbformat": 4,
 "nbformat_minor": 5
}
