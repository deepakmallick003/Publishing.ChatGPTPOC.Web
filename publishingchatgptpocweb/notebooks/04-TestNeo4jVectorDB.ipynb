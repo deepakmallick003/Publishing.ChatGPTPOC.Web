{
 "cells": [
  {
   "cell_type": "code",
   "execution_count": 54,
   "id": "ea37a0ec-73d8-4502-968e-bf67e159ea5a",
   "metadata": {},
   "outputs": [],
   "source": [
    "import os\n",
    "import openai\n",
    "import requests\n",
    "import re\n",
    "from pathlib import Path\n",
    "from dotenv import load_dotenv\n",
    "load_dotenv()\n",
    "\n",
    "from langchain.embeddings.openai import OpenAIEmbeddings\n",
    "from langchain.llms import OpenAI\n",
    "from langchain.chat_models import ChatOpenAI\n",
    "from langchain.chains import GraphCypherQAChain\n",
    "from langchain.graphs import Neo4jGraph\n",
    "from langchain.document_loaders import TextLoader\n",
    "from neo4j import GraphDatabase\n",
    "from langchain.vectorstores import Neo4jVector\n",
    "from langchain.chains import RetrievalQAWithSourcesChain\n",
    "from langchain.callbacks.streaming_stdout import StreamingStdOutCallbackHandler\n",
    "from langchain.prompts import PromptTemplate"
   ]
  },
  {
   "cell_type": "code",
   "execution_count": 55,
   "id": "b5ee2bb0-bef8-4693-8a6f-61db700e608d",
   "metadata": {},
   "outputs": [],
   "source": [
    "PARENT_PATH = Path.cwd().parent\n",
    "if 'publishingchatgptpocweb' not in str(PARENT_PATH):\n",
    "    PARENT_PATH = PARENT_PATH / 'publishingchatgptpocweb'\n",
    "\n",
    "DATA_DIRECTORY = PARENT_PATH / 'data'\n",
    "\n",
    "JATS_DATA_DIRECTORY_PATH = DATA_DIRECTORY / 'raw'\n",
    "ARTICLES_DATA_DIRECTORY_PATH = DATA_DIRECTORY / 'processed' / 'articles'\n",
    "CONCEPTS_DATA_DIRECTORY_PATH = DATA_DIRECTORY / 'processed' / 'concepts'"
   ]
  },
  {
   "cell_type": "code",
   "execution_count": 56,
   "id": "ac739485-6aed-43f2-8da9-784c5ed29e8f",
   "metadata": {},
   "outputs": [],
   "source": [
    "OPEN_AI_API_SECRET = os.getenv('Open__AI__API__Secret')\n",
    "openai.api_key = OPEN_AI_API_SECRET"
   ]
  },
  {
   "cell_type": "code",
   "execution_count": 57,
   "id": "f2feae46-7caf-45f9-91eb-b2bcc3597ba4",
   "metadata": {},
   "outputs": [],
   "source": [
    "embeddings = OpenAIEmbeddings(openai_api_key=OPEN_AI_API_SECRET, model=\"text-embedding-ada-002\")\n",
    "local_index = Neo4jVector.from_existing_index(\n",
    "    embeddings,\n",
    "    url=os.getenv('Local__Neo4J__URL'),\n",
    "    username=os.getenv('Local__Neo4J__UserName'),\n",
    "    password=os.getenv('Local__Neo4J__Password'),\n",
    "    database=os.getenv('Local__Neo4J__Database'),\n",
    "    index_name=os.getenv('Local__Neo4J__PrimaryIndexName'),  \n",
    "    text_node_property=\"info\", \n",
    ")"
   ]
  },
  {
   "cell_type": "code",
   "execution_count": 60,
   "id": "b7f7bcbc-bbd5-44e3-aa62-c09902761e6f",
   "metadata": {},
   "outputs": [],
   "source": [
    "\n",
    "TEMPLATE = \"\"\"As EVA (Expert Virtual Assistance), your role is to assist the user with their queries regarding articles, concepts, etc. \n",
    "This response should be extracted based on the provided A&I records enclosed between <ctx></ctx> tags.\n",
    "The response should be divided into two parts, Answer part and Source part.\n",
    "Ensure to adhere to the guidelines and example below to develop well-organized response.\n",
    "\n",
    "1. **Use only the provided A&I records for your response**:   \n",
    "\n",
    "2. **Do not use any other knowledge**:\n",
    "   Avoid using data or knowledge that is not present in the provided A&I records.\n",
    "\n",
    "3. **Structure and Content of Answer part**:   \n",
    "   Ensure to identify and encapsulate all possible Thesaurus Concepts within anchor tags, linking them to the correct concept URIs.\n",
    "   Concept URI usually looks like 'https://id.cabi.org/cabt/74668'.\n",
    "   Never mention Article Source in this part\n",
    "\n",
    "4. **Structure and Content of Source part**:\n",
    "   Beneath your Answer part, Provide at least 1 to at maximum 3 source articles from which the above answer part has been derived from.\n",
    "   Article Source usually looks like 'https://www.cabidigitallibrary.org/doi/10.5555/20183000178'.\n",
    "   Never mention Concept URI in this part\n",
    "\n",
    "5. **Avoid Mentioning the Absence of Information**:\n",
    "   If the provided A&I records lacks sufficient information to answer a query, refrain from stating \"not mentioned in the A&I records.\" Instead, indicate the limitations of your training.\n",
    "\n",
    "6. **Do not include any explanations or apologies in your responses**   \n",
    "\n",
    "Example:\n",
    "Q: What can you tell me about molecular epidemiology?\n",
    "A: <p><a href=\"Concept URI 1\">Molecular epidemiology</a> leverages <a href=\"Concept URI 2\">molecular biology</a> techniques and genetic information to elucidate disease dynamics in populations, affording a deeper comprehension of disease patterns and <a href=\"Concept URI 3\">transmission</a> dynamics.</p>\n",
    "<p>..next para but structured similarly as above</p>\n",
    "... (continue for other paragraphs)\n",
    "<br/>\n",
    "<h5>Source Articles</h5>\n",
    "<ul>\n",
    "   <li><a href=\"Article Source 1\">Articles Title 1</a></li>\n",
    "   <li><a href=\"Article Source 2\">Articles Title 2</a></li>\n",
    "   <li><a href=\"Article Source 3\">Articles Title 3</a></li>\n",
    "</ul>\n",
    "\n",
    "------\n",
    "<ctx>\n",
    "{summaries}\n",
    "</ctx>\n",
    "------\n",
    "Q: {question}\n",
    "A: \n",
    "\"\"\"\n",
    "    \n",
    "PROMPT = PromptTemplate(\n",
    "    template=TEMPLATE, input_variables=[\"summaries\", \"question\"]\n",
    ")\n",
    "chain_type_kwargs = {\"prompt\": PROMPT,  \"verbose\": False}\n",
    "\n",
    "\n",
    "llm = ChatOpenAI(\n",
    "    model_name=\"gpt-4\",\n",
    "    streaming=True,\n",
    "    callbacks=[StreamingStdOutCallbackHandler()],\n",
    "    temperature=0,\n",
    "    openai_api_key=OPEN_AI_API_SECRET,\n",
    ")\n",
    "\n",
    "chain = RetrievalQAWithSourcesChain.from_chain_type(\n",
    "    llm=llm,\n",
    "    chain_type=\"stuff\", \n",
    "    retriever=local_index.as_retriever(),\n",
    "    chain_type_kwargs=chain_type_kwargs\n",
    ")\n",
    "\n",
    "def test(question):\n",
    "    return chain({\"question\": question},return_only_outputs=False)"
   ]
  },
  {
   "cell_type": "code",
   "execution_count": 51,
   "id": "d364748b-ee1a-4507-98a7-93b4405a992c",
   "metadata": {},
   "outputs": [
    {
     "name": "stdout",
     "output_type": "stream",
     "text": [
      "The article with PAN 20183000178 is not mentioned in the provided A&I records."
     ]
    },
    {
     "data": {
      "text/plain": [
       "{'question': 'Which article has pan 20183000178?',\n",
       " 'answer': 'The article with PAN 20183000178 is not mentioned in the provided A&I records.',\n",
       " 'sources': ''}"
      ]
     },
     "execution_count": 51,
     "metadata": {},
     "output_type": "execute_result"
    }
   ],
   "source": [
    "# pan doesn't work\n",
    "test(\"Which article has pan 20183000178?\")"
   ]
  },
  {
   "cell_type": "code",
   "execution_count": 40,
   "id": "22053e30-f196-4835-b788-3e97142d9289",
   "metadata": {},
   "outputs": [
    {
     "name": "stdout",
     "output_type": "stream",
     "text": [
      "<p>The article titled <a href=\"https://www.cabidigitallibrary.org/doi/10.5555/20210326597\">Special Issue: Environmental Transmission and Control of COVID-19</a> is specifically focused on the environmental transmission and behavior of SARS-CoV-2.</p>\n",
      "\n",
      "<h5>Source Articles</h5>\n",
      "<ul>\n",
      "   <li><a href=\"https://www.cabidigitallibrary.org/doi/10.5555/20210326597\">Special Issue: Environmental Transmission and Control of COVID-19</a></li>\n",
      "</ul>"
     ]
    },
    {
     "data": {
      "text/plain": [
       "{'question': 'Which article is about Environmental Transmission and Control of COVID-19?',\n",
       " 'answer': '<p>The article titled <a href=\"https://www.cabidigitallibrary.org/doi/10.5555/20210326597\">Special Issue: Environmental Transmission and Control of COVID-19</a> is specifically focused on the environmental transmission and behavior of SARS-CoV-2.</p>\\n\\n<h5>Source Articles</h5>\\n<ul>\\n   <li><a href=\"https://www.cabidigitallibrary.org/doi/10.5555/20210326597\">Special Issue: Environmental Transmission and Control of COVID-19</a></li>\\n</ul>',\n",
       " 'sources': ''}"
      ]
     },
     "execution_count": 40,
     "metadata": {},
     "output_type": "execute_result"
    }
   ],
   "source": [
    "# title works\n",
    "test(\"Which article is about Environmental Transmission and Control of COVID-19?\")"
   ]
  },
  {
   "cell_type": "code",
   "execution_count": 42,
   "id": "eb3d0eb5-9842-479d-8c81-58f8d7b29376",
   "metadata": {
    "scrolled": true
   },
   "outputs": [
    {
     "name": "stdout",
     "output_type": "stream",
     "text": [
      "<p>The article titled \"Preventing bullying through science, policy, and practice\" was published in Washington, DC on the 17th of January, 2018.</p>\n",
      "\n",
      "<h5>Source Articles</h5>\n",
      "<ul>\n",
      "   <li><a href=\"https://www.cabidigitallibrary.org/doi/10.5555/20183014770\">Preventing bullying through science, policy, and practice</a></li>\n",
      "</ul>"
     ]
    },
    {
     "data": {
      "text/plain": [
       "{'question': 'Which article was published in Washington, DC on 17th of January, 2018?',\n",
       " 'answer': '<p>The article titled \"Preventing bullying through science, policy, and practice\" was published in Washington, DC on the 17th of January, 2018.</p>\\n\\n<h5>Source Articles</h5>\\n<ul>\\n   <li><a href=\"https://www.cabidigitallibrary.org/doi/10.5555/20183014770\">Preventing bullying through science, policy, and practice</a></li>\\n</ul>',\n",
       " 'sources': ''}"
      ]
     },
     "execution_count": 42,
     "metadata": {},
     "output_type": "execute_result"
    }
   ],
   "source": [
    "# publishing date and location works\n",
    "test(\"Which article was published in Washington, DC on 17th of January, 2018?\")"
   ]
  },
  {
   "cell_type": "code",
   "execution_count": 43,
   "id": "329fd67b-bf6f-4c78-a8c8-c2a5d1bb5d06",
   "metadata": {},
   "outputs": [
    {
     "name": "stdout",
     "output_type": "stream",
     "text": [
      "The A&I records do not mention any article with the ISBN 9780309440677."
     ]
    },
    {
     "data": {
      "text/plain": [
       "{'question': 'Which article has isbn 9780309440677?',\n",
       " 'answer': 'The A&I records do not mention any article with the ISBN 9780309440677.',\n",
       " 'sources': ''}"
      ]
     },
     "execution_count": 43,
     "metadata": {},
     "output_type": "execute_result"
    }
   ],
   "source": [
    "test(\"Which article has isbn 9780309440677?\")\n",
    "# docs_with_score = local_index.similarity_search_with_score(\"Which article has isbn 9780309440677?\")\n",
    "# docs_with_score = local_index.similarity_search_with_score(\"Which article has giant reed as preferred term?\")\n",
    "# for doc, score in docs_with_score:\n",
    "#     print(\"-\" * 80)\n",
    "#     print(\"Score: \", score)\n",
    "#     print(doc.page_content)\n",
    "#     print(\"-\" * 80)"
   ]
  },
  {
   "cell_type": "code",
   "execution_count": 61,
   "id": "0ba67ca6-acc0-4726-bd78-62ebec153207",
   "metadata": {},
   "outputs": [
    {
     "name": "stdout",
     "output_type": "stream",
     "text": [
      "<p>The \"Metrics that matter for population health action\" is a workshop summary that discusses the United States' efforts to improve population health. It describes the current metrics landscape, including several important milestones (events and publications). The document also presents examples of how metrics are being used to drive improvements in <a href=\"https://id.cabi.org/cabt/74668\">population health</a> in <a href=\"https://id.cabi.org/cabt/74669\">communities</a>. Furthermore, it discusses the uses of metrics to assess <a href=\"https://id.cabi.org/cabt/74670\">health equity</a> at the population level.</p>\n",
      "\n",
      "<h5>Source Articles</h5>\n",
      "<ul>\n",
      "   <li><a href=\"https://www.cabidigitallibrary.org/doi/10.5555/20183000177\">Metrics that matter for population health action: workshop summary</a></li>\n",
      "</ul>"
     ]
    },
    {
     "data": {
      "text/plain": [
       "{'question': 'What can you tell me about Metrics that matter for population health action?',\n",
       " 'answer': '<p>The \"Metrics that matter for population health action\" is a workshop summary that discusses the United States\\' efforts to improve population health. It describes the current metrics landscape, including several important milestones (events and publications). The document also presents examples of how metrics are being used to drive improvements in <a href=\"https://id.cabi.org/cabt/74668\">population health</a> in <a href=\"https://id.cabi.org/cabt/74669\">communities</a>. Furthermore, it discusses the uses of metrics to assess <a href=\"https://id.cabi.org/cabt/74670\">health equity</a> at the population level.</p>\\n\\n<h5>Source Articles</h5>\\n<ul>\\n   <li><a href=\"https://www.cabidigitallibrary.org/doi/10.5555/20183000177\">Metrics that matter for population health action: workshop summary</a></li>\\n</ul>',\n",
       " 'sources': ''}"
      ]
     },
     "execution_count": 61,
     "metadata": {},
     "output_type": "execute_result"
    }
   ],
   "source": [
    "test(\"What can you tell me about Metrics that matter for population health action?\")"
   ]
  }
 ],
 "metadata": {
  "kernelspec": {
   "display_name": "Python 3 (ipykernel)",
   "language": "python",
   "name": "python3"
  },
  "language_info": {
   "codemirror_mode": {
    "name": "ipython",
    "version": 3
   },
   "file_extension": ".py",
   "mimetype": "text/x-python",
   "name": "python",
   "nbconvert_exporter": "python",
   "pygments_lexer": "ipython3",
   "version": "3.11.4"
  }
 },
 "nbformat": 4,
 "nbformat_minor": 5
}
