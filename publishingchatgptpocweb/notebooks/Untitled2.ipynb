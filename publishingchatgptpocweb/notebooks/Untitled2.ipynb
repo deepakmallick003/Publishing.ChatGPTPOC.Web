{
 "cells": [
  {
   "cell_type": "code",
   "execution_count": 2,
   "id": "2650fc34-5782-4acd-b773-e01405470f5d",
   "metadata": {},
   "outputs": [
    {
     "data": {
      "text/plain": [
       "True"
      ]
     },
     "execution_count": 2,
     "metadata": {},
     "output_type": "execute_result"
    }
   ],
   "source": [
    "import os\n",
    "import openai\n",
    "import networkx as nx\n",
    "import xml.etree.ElementTree as ET\n",
    "import requests\n",
    "from pathlib import Path\n",
    "from dotenv import load_dotenv\n",
    "load_dotenv()"
   ]
  },
  {
   "cell_type": "code",
   "execution_count": 3,
   "id": "95f666fe-5e64-42df-81c8-80fd576c6eb9",
   "metadata": {},
   "outputs": [],
   "source": [
    "import chromadb\n",
    "from langchain.embeddings.openai import OpenAIEmbeddings\n",
    "from langchain.vectorstores import Chroma\n",
    "from langchain.text_splitter import RecursiveCharacterTextSplitter, CharacterTextSplitter\n",
    "from langchain.llms import OpenAI\n",
    "from langchain.chat_models import ChatOpenAI\n",
    "from langchain.document_loaders import TextLoader, UnstructuredXMLLoader\n",
    "from langchain.vectorstores import Neo4jVector"
   ]
  },
  {
   "cell_type": "code",
   "execution_count": 4,
   "id": "b725b1cb-0a96-465d-91b4-b45a38f154f0",
   "metadata": {},
   "outputs": [],
   "source": [
    "PARENT_PATH = Path.cwd().parent\n",
    "if 'publishingchatgptpocweb' not in str(PARENT_PATH):\n",
    "    PARENT_PATH = PARENT_PATH / 'publishingchatgptpocweb'\n",
    "\n",
    "CORE_DIRECTORY = PARENT_PATH / 'core'\n",
    "DATA_DIRECTORY = PARENT_PATH / 'data'\n",
    "MODEL_DIRECTORY = PARENT_PATH / 'models'\n",
    "\n",
    "SPAQRQL_QUERY_FILE_PATH = CORE_DIRECTORY / 'sparql_query_template.sparql'\n",
    "JATS_DATA_DIRECTORY_PATH = DATA_DIRECTORY / 'raw'\n",
    "CHROMA_DB_PUB = MODEL_DIRECTORY / 'langchain_chroma_db_pub'"
   ]
  },
  {
   "cell_type": "code",
   "execution_count": 5,
   "id": "591b1af9-ceec-44b4-be70-4e24b34e613b",
   "metadata": {},
   "outputs": [],
   "source": [
    "OPEN_AI_API_SECRET = os.getenv('Open__AI__API__Secret')\n",
    "openai.api_key = OPEN_AI_API_SECRET"
   ]
  },
  {
   "cell_type": "code",
   "execution_count": 19,
   "id": "414d8a93-e926-4e82-9352-b3f1550c2fb0",
   "metadata": {},
   "outputs": [],
   "source": [
    "\n",
    "# This adds documents from a langchain loader to the database. The customized splitters serve to be able to break at sentence level if required.\n",
    "# def add_documents(loader, instance):\n",
    "#     documents = loader.load()\n",
    "#     text_splitter = RecursiveCharacterTextSplitter(chunk_size=1000, chunk_overlap=100, separators= [\"\\n\\n\", \"\\n\", \".\", \";\", \",\", \" \", \"\"])\n",
    "#     texts = text_splitter.split_documents(documents)\n",
    "#     instance.add_documents(texts)\n",
    "\n",
    "\n",
    "# # Create embeddings instance\n",
    "embeddings = OpenAIEmbeddings(openai_api_key=OPEN_AI_API_SECRET)\n",
    "\n",
    "# # Create Chroma instance\n",
    "instance = Chroma(embedding_function=embeddings, persist_directory=str(CHROMA_DB_PUB))\n",
    "\n",
    "# add Knowledgebase Dump (HTML file)\n",
    "# for root_dir, sub_dirs, files in os.walk(JATS_DATA_DIRECTORY_PATH):\n",
    "#     for file_name in files:\n",
    "#         if file_name.endswith('.xml'):\n",
    "#             file_path = os.path.join(root_dir, file_name)\n",
    "#             loader = TextLoader(file_path)\n",
    "#             documents = loader.load()\n",
    "#             text_splitter = RecursiveCharacterTextSplitter(chunk_size=15000, chunk_overlap=100, separators= [\"\\n\\n\", \"\\n\", \".\", \";\", \",\", \" \", \"\"])\n",
    "#             # text_splitter = CharacterTextSplitter(chunk_size=15000, chunk_overlap=0)\n",
    "#             texts = text_splitter.split_documents(documents)\n",
    "\n",
    "#             # loader = UnstructuredXMLLoader(file_path, mode=\"single\", strategy=\"fast\")\n",
    "#             # # add_documents(loader, instance)\n",
    "#             # documents = loader.load()\n",
    "         \n",
    "#             # instance.add_documents(documents)\n",
    "# print(documents)               \n",
    "# print(texts)\n",
    "# instance.persist()\n",
    "# instance = None\n",
    "\n",
    "\n",
    "\n",
    "# Parse the XML file\n",
    "tree = ET.parse('C:/Users//MallickD//CABIGitProjects//Cabi.Publishing.ChatGPTPOC.Web//publishingchatgptpocweb//data//raw//20183000178//20183000178.xml')\n",
    "root = tree.getroot()\n",
    "\n",
    "def parse_element(element, file, indent=0):\n",
    "    # Write the node name (tag) with indentation\n",
    "    file.write(' ' * indent + f\"Node: {element.tag}\\n\")\n",
    "    \n",
    "    # Write the node attributes, if any, with indentation\n",
    "    if element.attrib:\n",
    "        file.write(' ' * indent + f\"Attributes: {element.attrib}\\n\")\n",
    "    \n",
    "    # Write the node text, if any, with indentation\n",
    "    if element.text and element.text.strip():\n",
    "        file.write(' ' * indent + f\"Text: {element.text.strip()}\\n\")\n",
    "    \n",
    "    # Recursively parse the child elements with increased indentation\n",
    "    for child in element:\n",
    "        parse_element(child, file, indent + 2)\n",
    "\n",
    "# Open a TXT file in write mode\n",
    "with open('C:/Users//MallickD//CABIGitProjects//Cabi.Publishing.ChatGPTPOC.Web//publishingchatgptpocweb//data//raw//20183000178//20183000178.txt', 'w') as f:\n",
    "    parse_element(root, f)\n",
    "\n",
    "loader = TextLoader(\"C:/Users//MallickD//CABIGitProjects//Cabi.Publishing.ChatGPTPOC.Web//publishingchatgptpocweb//data//raw//20183000178//20183000178.txt\")\n",
    "documents = loader.load()\n",
    "\n",
    "text_splitter = RecursiveCharacterTextSplitter(chunk_size=15000, chunk_overlap=100, separators= [\"\\n\\n\", \"\\n\", \".\", \";\", \",\", \" \", \"\"])\n",
    "# text_splitter = CharacterTextSplitter(chunk_size=1000, chunk_overlap=0)\n",
    "texts = text_splitter.split_documents(documents)\n",
    "\n",
    "instance.add_documents(texts)\n",
    "instance.persist()\n",
    "instance = None"
   ]
  },
  {
   "cell_type": "code",
   "execution_count": null,
   "id": "1eb4905d-ff4d-43c8-95cd-9b0d96b4d875",
   "metadata": {},
   "outputs": [],
   "source": [
    "# db = Neo4jVector.from_documents(\n",
    "#     docs, embeddings, url=\"bolt://localhost:7687\", username=\"neo4j\", password=\"TGPPubCABIFirstAttempt\"\n",
    "# )"
   ]
  },
  {
   "cell_type": "code",
   "execution_count": null,
   "id": "7e7c7be5-4972-4f60-9938-4aeca89ebd37",
   "metadata": {
    "scrolled": true
   },
   "outputs": [],
   "source": [
    "# query = \"What organisms are mentioned in article about ebola epidemic in West Africa?\"\n",
    "# docs_with_score = db.similarity_search_with_score(query)\n",
    "\n",
    "# for doc, score in docs_with_score:\n",
    "#     print(\"-\" * 80)\n",
    "#     print(\"Score: \", score)\n",
    "#     print(doc.page_content)\n",
    "#     print(\"-\" * 80)"
   ]
  },
  {
   "cell_type": "code",
   "execution_count": null,
   "id": "c3c86fe2-95e0-47ad-8ec0-5f8b764290d0",
   "metadata": {},
   "outputs": [],
   "source": [
    "# for root_dir, sub_dirs, files in os.walk(JATS_DATA_DIRECTORY_PATH):\n",
    "#     for file_name in files:\n",
    "#         if file_name.endswith('.xml'):\n",
    "#             file_path = os.path.join(root_dir, file_name)\n",
    "#             loader = UnstructuredXMLLoader(\n",
    "#                 file_path,\n",
    "#             )\n",
    "#             docs = loader.load()\n",
    "#             docs[0]"
   ]
  },
  {
   "cell_type": "code",
   "execution_count": null,
   "id": "fef36a77-cec8-4720-92a9-a64bf0a13c1e",
   "metadata": {},
   "outputs": [],
   "source": [
    "# index_name = \"article_composite_index\"  # default index name\n",
    "\n",
    "# store = Neo4jVector.from_existing_index(\n",
    "#     embeddings,\n",
    "#     url=\"bolt://localhost:7687\", username=\"neo4j\", password=\"TGPPubCABIFirstAttempt\",\n",
    "#     index_name=index_name,\n",
    "# )"
   ]
  },
  {
   "cell_type": "code",
   "execution_count": 47,
   "id": "a2b67046-670b-4baf-b91c-6bb9336077db",
   "metadata": {},
   "outputs": [],
   "source": [
    "from langchain.chains import RetrievalQA\n",
    "from langchain.prompts import PromptTemplate\n",
    "from langchain.chains import RetrievalQAWithSourcesChain\n",
    "from langchain.chat_models import ChatOpenAI\n",
    "\n",
    "\n",
    "\n",
    "instance = Chroma(persist_directory=str(CHROMA_DB_PUB), embedding_function=embeddings)\n",
    "\n",
    "TEMPLATE = \"\"\"As EVA (Expert Virtual Assistance), your role is to help user with their queries related to articles, concepts etc. Please adhere to the following guidelines:\n",
    "Utilize the given context (enclosed by <ctx></ctx>) to construct your responses:\n",
    "------\n",
    "<ctx>\n",
    "{context}\n",
    "</ctx>\n",
    "------\n",
    "\n",
    "Q: {question}\n",
    "A: \"\"\"\n",
    "\n",
    "\n",
    "# model = 'gpt-3.5-turbo-16k'\n",
    "# model = 'gpt-3.5-turbo'\n",
    "model = 'gpt-4'\n",
    "\n",
    "\n",
    "prompt_template = PromptTemplate(\n",
    "            template=TEMPLATE, \n",
    "            input_variables=[\"context\", \"question\"])        \n",
    "\n",
    "retieval_qa = RetrievalQA.from_chain_type(\n",
    "            llm=ChatOpenAI(\n",
    "                model_name=model, \n",
    "                openai_api_key=OPEN_AI_API_SECRET\n",
    "            ),\n",
    "            retriever=instance.as_retriever(search_kwargs={\"k\": 1}),\n",
    "            chain_type_kwargs={\n",
    "                \"verbose\": False,\n",
    "                \"prompt\": prompt_template\n",
    "            }\n",
    "        )\n",
    "\n",
    "# retieval_qa = RetrievalQAWithSourcesChain.from_chain_type(\n",
    "#     ChatOpenAI(\n",
    "#                 model_name=\"gpt-3.5-turbo\", \n",
    "#                 temperature=0, \n",
    "#                 max_tokens=100, \n",
    "#                 openai_api_key=OPEN_AI_API_SECRET\n",
    "#             ), chain_type=\"stuff\", retriever=store.as_retriever(),\n",
    "# )\n",
    "\n",
    "\n"
   ]
  },
  {
   "cell_type": "code",
   "execution_count": 50,
   "id": "128baa22-2423-4eff-ba15-9e682ea09802",
   "metadata": {},
   "outputs": [
    {
     "name": "stdout",
     "output_type": "stream",
     "text": [
      "The article written by M. R. Snair is \"The ebola epidemic in West Africa: proceedings of a workshop.\"\n"
     ]
    }
   ],
   "source": [
    "import tiktoken \n",
    "\n",
    "encoding = tiktoken.encoding_for_model(model)\n",
    "\n",
    "text='Can you tell me a more about the ebola epidemic in West Africa?'\n",
    "text='What is the PAN numberof the article?'\n",
    "text='Which preferred terms are mentioned in the article?'\n",
    "text='Which article is written by M. R. Snair?'\n",
    "\n",
    "# print('tokens:', str(len(encoding.encode(text))))\n",
    "response = retieval_qa.run(text)\n",
    "print(response)\n",
    "# print('tokens:', str(len(encoding.encode(response))))\n",
    "\n",
    "# retieval_qa(\n",
    "#     {\"question\": \"What is title of article?\"},\n",
    "#     return_only_outputs=True,\n",
    "# )\n",
    "\n",
    "\n"
   ]
  },
  {
   "cell_type": "code",
   "execution_count": 31,
   "id": "7daa91d5-377b-45a9-a95d-6b68e2588d48",
   "metadata": {},
   "outputs": [],
   "source": [
    "def parse_element(element, file, indent=0):\n",
    "    # Identify and write specific tags and attributes in a structured format\n",
    "    if element.tag == \"article\":\n",
    "        file.write(\"Article:\\n\")\n",
    "    elif element.tag == \"article-id\":\n",
    "        if 'pub-id-type' in element.attrib:\n",
    "            if element.attrib['pub-id-type'] == 'CABI-pan':\n",
    "                file.write(f\"    PAN: {element.text.strip()}\\n\")\n",
    "            elif element.attrib['pub-id-type'] == 'doi':\n",
    "                file.write(f\"    DOI: {element.text.strip()}\\n\")\n",
    "    elif element.tag == \"article-title\":\n",
    "        file.write(f\"    Title: {element.text.strip()}\\n\")\n",
    "    elif element.tag == \"pub-date\":\n",
    "        file.write(\"    Publishing Date:\\n\")\n",
    "        for child in element:\n",
    "            if child.tag == 'day':\n",
    "                file.write(f\"        Day: {child.text.strip()}\\n\")\n",
    "            elif child.tag == 'month':\n",
    "                file.write(f\"        Month: {child.text.strip()}\\n\")\n",
    "            elif child.tag == 'year':\n",
    "                file.write(f\"        Year: {child.text.strip()}\\n\")\n",
    "\n",
    "    # Recursively parse the child elements\n",
    "    for child in element:\n",
    "        parse_element(child, file, indent + 2)\n",
    "\n",
    "\n"
   ]
  }
 ],
 "metadata": {
  "kernelspec": {
   "display_name": "Python 3 (ipykernel)",
   "language": "python",
   "name": "python3"
  },
  "language_info": {
   "codemirror_mode": {
    "name": "ipython",
    "version": 3
   },
   "file_extension": ".py",
   "mimetype": "text/x-python",
   "name": "python",
   "nbconvert_exporter": "python",
   "pygments_lexer": "ipython3",
   "version": "3.11.4"
  }
 },
 "nbformat": 4,
 "nbformat_minor": 5
}
